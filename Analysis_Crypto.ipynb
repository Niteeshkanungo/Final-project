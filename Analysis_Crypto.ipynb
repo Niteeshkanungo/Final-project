{
 "cells": [
  {
   "cell_type": "markdown",
   "metadata": {},
   "source": [
    "## Final Project for Programming Analytics"
   ]
  },
  {
   "cell_type": "code",
   "execution_count": null,
   "metadata": {
    "collapsed": true
   },
   "outputs": [],
   "source": [
    "#Importing Libraries for the Project \n",
    "import pandas as pd \n",
    "import datetime \n",
    "import numpy as np\n",
    "import scipy.stats\n",
    "import pandas_datareader.data as web\n",
    "import matplotlib.pyplot as plt\n",
    "from pandas import DataFrame\n",
    "import itertools\n",
    "import timeit\n",
    "\n",
    "#Type plot - XKCD \n",
    "#plt.xkcd()\n",
    "\n",
    "#plotting inline\n",
    "%matplotlib inline"
   ]
  },
  {
   "cell_type": "code",
   "execution_count": null,
   "metadata": {},
   "outputs": [],
   "source": [
    "%%javascript\n",
    "//This function is used to Plot Graph in Jupyter with keeping Autoscrolling off.\n",
    "IPython.OutputArea.prototype._should_scroll = function(lines){\n",
    "    return false;}"
   ]
  },
  {
   "cell_type": "code",
   "execution_count": null,
   "metadata": {
    "collapsed": true
   },
   "outputs": [],
   "source": [
    "#Start date and End date is refers to time period for fetching the data using the Pandas dataframe API\n",
    "#We have selected data for atleast 1 years to include variability due to seasoning and external conditions over the period of time\n",
    "start_date = datetime.datetime(2016, 12, 5)\n",
    "end_date = datetime.datetime(2017, 12, 5)"
   ]
  },
  {
   "cell_type": "markdown",
   "metadata": {},
   "source": [
    "Fetching Data for the individual Crypto-Currency in individual blocks to make sure they are loaded properly without any errors"
   ]
  },
  {
   "cell_type": "code",
   "execution_count": null,
   "metadata": {
    "collapsed": true
   },
   "outputs": [],
   "source": [
    "#Bitcion to USD Trading Data\n",
    "BTC_USD = web.DataReader(\"BTC-USD\", \"yahoo\", start_date, end_date)\n",
    "BTC_USD.to_csv(\"BTC_USD.csv\")"
   ]
  },
  {
   "cell_type": "code",
   "execution_count": null,
   "metadata": {
    "collapsed": true
   },
   "outputs": [],
   "source": [
    "#Ethereium to USD Trading Data\n",
    "ETH_USD = web.DataReader(\"ETH-USD\", \"yahoo\", start_date, end_date)\n",
    "ETH_USD.to_csv(\"ETH_USD.csv\")"
   ]
  },
  {
   "cell_type": "code",
   "execution_count": null,
   "metadata": {
    "collapsed": true
   },
   "outputs": [],
   "source": [
    "#Litecoin to USD Trading Data\n",
    "LTC_USD = web.DataReader(\"LTC-USD\", \"yahoo\", start_date, end_date)\n",
    "LTC_USD.to_csv(\"LTC_USD.csv\")"
   ]
  },
  {
   "cell_type": "code",
   "execution_count": null,
   "metadata": {
    "collapsed": true
   },
   "outputs": [],
   "source": [
    "#XRP to USD Trading Data\n",
    "XRP_USD = web.DataReader(\"XRP-USD\", \"yahoo\", start_date, end_date)\n",
    "XRP_USD.to_csv(\"XRP_USD.csv\")"
   ]
  },
  {
   "cell_type": "code",
   "execution_count": null,
   "metadata": {
    "collapsed": true
   },
   "outputs": [],
   "source": [
    "#Bitcoin_cash to USD Trading Data\n",
    "BCH_USD = web.DataReader(\"LTC-USD\", \"yahoo\", start_date, end_date)\n",
    "BCH_USD.to_csv(\"BCH_USD.csv\")"
   ]
  },
  {
   "cell_type": "code",
   "execution_count": null,
   "metadata": {
    "collapsed": true
   },
   "outputs": [],
   "source": [
    "#IOTA to USD Trading Data\n",
    "IOT_USD = web.DataReader(\"IOT-USD\", \"yahoo\", start_date, end_date)\n",
    "IOT_USD.to_csv(\"IOT_USD.csv\")"
   ]
  },
  {
   "cell_type": "code",
   "execution_count": null,
   "metadata": {
    "collapsed": true
   },
   "outputs": [],
   "source": [
    "#DASH-USD to USD Trading Data\n",
    "DSH_USD = web.DataReader(\"DASH-USD\", \"yahoo\", start_date, end_date)\n",
    "DSH_USD.to_csv(\"DSH_USD.csv\")"
   ]
  },
  {
   "cell_type": "code",
   "execution_count": null,
   "metadata": {
    "collapsed": true
   },
   "outputs": [],
   "source": [
    "Coin_list = [BTC_USD, LTC_USD, BCH_USD, DSH_USD, ETH_USD, IOT_USD, XRP_USD]\n",
    "Coin_list_str = [\"BTC_USD\", \"LTC_USD\", \"BCH_USD\", \"DSH_USD\", \"ETH_USD\", \"IOT_USD\", \"XRP_USD\"]"
   ]
  },
  {
   "cell_type": "code",
   "execution_count": null,
   "metadata": {},
   "outputs": [],
   "source": [
    "#Testing_Data, checking daily returns over the entire period\n",
    "for i,j in itertools.zip_longest(Coin_list,Coin_list_str):\n",
    "    i[\"Adj Close\"].pct_change().plot(figsize=(16,5), grid=True)\n",
    "    plt.title(u\"Stock Prev_day %-change for all cryptos\", weight='bold')\n",
    "    plt.ylabel(\"Percentage Change of Value in $US\",weight='bold')\n",
    "    plt.legend(Coin_list_str)"
   ]
  },
  {
   "cell_type": "code",
   "execution_count": null,
   "metadata": {},
   "outputs": [],
   "source": [
    "#Testing_Data_with _Ploting in loop for Adjusted close\n",
    "for i,j in itertools.zip_longest(Coin_list,Coin_list_str):\n",
    "    i.plot(y=\"Adj Close\",figsize=(16,5), grid=True, colormap='Dark2')\n",
    "    plt.title(\"Adjusted values at closing for \" + j + \".\" , weight='bold')\n",
    "    plt.ylabel(\"Price Trade of \" + j +\" in USD\")"
   ]
  },
  {
   "cell_type": "code",
   "execution_count": null,
   "metadata": {},
   "outputs": [],
   "source": [
    "#Testing_Data_with _Ploting in loop\n",
    "for i,j in itertools.zip_longest(Coin_list,Coin_list_str):\n",
    "    fig = plt.figure()\n",
    "    i[\"Adj Close\"].pct_change().plot(figsize=(16,5), grid=True, colormap='Pastel1')\n",
    "    plt.title(u\"Stock daily %-Change for \"+ j + \".\", weight='bold')\n",
    "    plt.ylabel(\"Percentage Change for \" + j +\" in $\")\n",
    "    plt.legend()"
   ]
  },
  {
   "cell_type": "code",
   "execution_count": null,
   "metadata": {},
   "outputs": [],
   "source": [
    "for i,j in itertools.zip_longest(Coin_list,Coin_list_str):\n",
    "    fig = plt.figure()\n",
    "    i[\"Adj Close\"].pct_change().hist(bins=75, normed=True, histtype='stepfilled', alpha=0.7,figsize=(9,6))\n",
    "    plt.title(u\"Histogram of \"+j+\" stock daily returns in 2016-17\", weight='bold')\n",
    "    i[\"Adj Close\"].pct_change().std()"
   ]
  },
  {
   "cell_type": "code",
   "execution_count": null,
   "metadata": {
    "collapsed": true
   },
   "outputs": [],
   "source": [
    "#Correlation between the stocks with %change with trade next day\n",
    "df = DataFrame({ 'BTC_USD': BTC_USD[\"Close\"].pct_change(),\n",
    "                 'IOT_USD': IOT_USD[\"Close\"].pct_change(),\n",
    "                 'LTC_USD': LTC_USD[\"Close\"].pct_change(),\n",
    "                 'BCH_USD': BCH_USD[\"Close\"].pct_change(),\n",
    "                 'XRP_USD': XRP_USD[\"Close\"].pct_change(),\n",
    "                 'ETH_USD': ETH_USD[\"Close\"].pct_change(),\n",
    "                 'DSH_USD': DSH_USD[\"Close\"].pct_change()})\n",
    "dfna = df.dropna()"
   ]
  },
  {
   "cell_type": "code",
   "execution_count": null,
   "metadata": {},
   "outputs": [],
   "source": [
    "#Correlation between the prices of the crypto Currencies with %change with trade next day\n",
    "dfna.corr(method='pearson').plot(figsize=(12,5), grid=True)\n",
    "plt.xlabel(\"Different Currency modules\")\n",
    "plt.ylabel(\"Correlation factor\")"
   ]
  },
  {
   "cell_type": "code",
   "execution_count": null,
   "metadata": {
    "collapsed": true
   },
   "outputs": [],
   "source": [
    "#Correlation between the stocks\n",
    "df = DataFrame({ 'BTC_USD': BTC_USD[\"Close\"],\n",
    "                 'IOT_USD': IOT_USD[\"Close\"],\n",
    "                 'LTC_USD': LTC_USD[\"Close\"],\n",
    "                 'BCH_USD': BCH_USD[\"Close\"],\n",
    "                 'XRP_USD': XRP_USD[\"Close\"],\n",
    "                 'ETH_USD': ETH_USD[\"Close\"],\n",
    "                 'DSH_USD': DSH_USD[\"Close\"]})\n",
    "dfna = df.dropna()"
   ]
  },
  {
   "cell_type": "code",
   "execution_count": null,
   "metadata": {},
   "outputs": [],
   "source": [
    "#Correlation between the stocks removing NAN values\n",
    "dfna.corr(method='pearson').plot(figsize=(12,5), grid=True)"
   ]
  },
  {
   "cell_type": "raw",
   "metadata": {
    "collapsed": true
   },
   "source": [
    "In the above graph we can see that the trading prices for each of the Crypto-currencies are co-related in one way or the other. We do not have the data from one currency conversion to the other, we can assume that because of the general trend as all the Cryto values are rising because of trading - is creating a relative high correlation."
   ]
  },
  {
   "cell_type": "code",
   "execution_count": null,
   "metadata": {
    "collapsed": true
   },
   "outputs": [],
   "source": []
  }
 ],
 "metadata": {
  "kernelspec": {
   "display_name": "Python 3",
   "language": "python",
   "name": "python3"
  },
  "language_info": {
   "codemirror_mode": {
    "name": "ipython",
    "version": 3
   },
   "file_extension": ".py",
   "mimetype": "text/x-python",
   "name": "python",
   "nbconvert_exporter": "python",
   "pygments_lexer": "ipython3",
   "version": "3.6.2"
  }
 },
 "nbformat": 4,
 "nbformat_minor": 2
}
